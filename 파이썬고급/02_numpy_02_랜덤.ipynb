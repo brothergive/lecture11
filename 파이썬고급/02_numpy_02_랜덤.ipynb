{
 "cells": [
  {
   "cell_type": "markdown",
   "metadata": {},
   "source": [
    "## 파이썬 고급\n",
    "# Numpy 랜덤 생성 함수\n",
    "- np.random.rand() : 0~1 사이의 실수값\n",
    "- np.random.randn() : 평균이 0, 표준편차가 1인 정규분포에서 실수값을 뽑는다\n",
    "- np.random.randint() : 정해진 범위에서 정수값을 뽑는다\n",
    "- np.random.normal() : 정규분포에서 평균과 표준편차를 직접 지정\n",
    "- np.random.uniform() : 정해진 범위에서 실수값을 뽑는다\n",
    "- np.random.permutation() : 데이터를 임의로 섞어 새로운 array 를 생성한다\n",
    "- np.random.choice() : 데이터에서 정해진 갯수만큼 값을 뽑아낸다\n",
    "- np.random.seed() : 실험 재현을 위해 시드값을 고정한다\n",
    "> 교재 175쪽 참조"
   ]
  },
  {
   "cell_type": "code",
   "execution_count": 1,
   "metadata": {},
   "outputs": [],
   "source": [
    "import numpy as np\n",
    "import matplotlib.pyplot as plt"
   ]
  },
  {
   "cell_type": "markdown",
   "metadata": {},
   "source": [
    "### rand()\n",
    "- 0~1 사이의 임의의 실수 선택 (1은 제외)"
   ]
  },
  {
   "cell_type": "code",
   "execution_count": 2,
   "metadata": {},
   "outputs": [
    {
     "data": {
      "text/plain": [
       "array([[0.3721744 , 0.87535543, 0.20501004, 0.57610886, 0.42408765],\n",
       "       [0.42760417, 0.74348166, 0.73485425, 0.45545579, 0.10615909],\n",
       "       [0.28782087, 0.37047391, 0.53187279, 0.36314807, 0.01380394],\n",
       "       [0.17331025, 0.81072528, 0.97551673, 0.48030537, 0.13503103],\n",
       "       [0.61809232, 0.78947136, 0.89534614, 0.43046121, 0.17755442]])"
      ]
     },
     "execution_count": 2,
     "metadata": {},
     "output_type": "execute_result"
    }
   ],
   "source": [
    "a = np.random.rand(5,5) # [0,1) 구간의 임의수 실수 선택\n",
    "a"
   ]
  },
  {
   "cell_type": "code",
   "execution_count": 3,
   "metadata": {},
   "outputs": [
    {
     "data": {
      "text/plain": [
       "array([[False,  True, False,  True, False],\n",
       "       [False,  True,  True, False, False],\n",
       "       [False, False,  True, False, False],\n",
       "       [False,  True,  True, False, False],\n",
       "       [ True,  True,  True, False, False]])"
      ]
     },
     "execution_count": 3,
     "metadata": {},
     "output_type": "execute_result"
    }
   ],
   "source": [
    "a>0.5"
   ]
  },
  {
   "cell_type": "code",
   "execution_count": 4,
   "metadata": {},
   "outputs": [
    {
     "data": {
      "text/plain": [
       "0.47892900023800855"
      ]
     },
     "execution_count": 4,
     "metadata": {},
     "output_type": "execute_result"
    }
   ],
   "source": [
    "a.mean()"
   ]
  },
  {
   "cell_type": "code",
   "execution_count": 5,
   "metadata": {},
   "outputs": [
    {
     "data": {
      "text/plain": [
       "10"
      ]
     },
     "execution_count": 5,
     "metadata": {},
     "output_type": "execute_result"
    }
   ],
   "source": [
    "(a>0.5).sum()"
   ]
  },
  {
   "cell_type": "code",
   "execution_count": 6,
   "metadata": {},
   "outputs": [
    {
     "data": {
      "text/plain": [
       "0.4"
      ]
     },
     "execution_count": 6,
     "metadata": {},
     "output_type": "execute_result"
    }
   ],
   "source": [
    "(a>0.5).mean()"
   ]
  },
  {
   "cell_type": "code",
   "execution_count": 7,
   "metadata": {},
   "outputs": [
    {
     "data": {
      "text/plain": [
       "Text(0.5,1,'Histogram - rand()')"
      ]
     },
     "execution_count": 7,
     "metadata": {},
     "output_type": "execute_result"
    },
    {
     "data": {
      "image/png": "[encoded data removed]",
      "text/plain": [
       "<matplotlib.figure.Figure at 0x1d9751e0ef0>"
      ]
     },
     "metadata": {},
     "output_type": "display_data"
    }
   ],
   "source": [
    "a2 = np.random.rand(10000)\n",
    "\n",
    "plt.hist(a2, bins=100)\n",
    "plt.title('Histogram - rand()')"
   ]
  },
  {
   "cell_type": "markdown",
   "metadata": {},
   "source": [
    "### randn()\n",
    "- 평균이 0, 표준편차가 1인 임의의 실수 선택"
   ]
  },
  {
   "cell_type": "code",
   "execution_count": 8,
   "metadata": {},
   "outputs": [
    {
     "data": {
      "text/plain": [
       "array([[-2.01560929e+00, -1.07085818e+00,  7.03848076e-01,\n",
       "         1.22835984e-01,  8.46487252e-01],\n",
       "       [ 3.69408780e-01, -1.34589223e+00,  2.14032814e-01,\n",
       "        -1.10510807e+00, -9.47248082e-02],\n",
       "       [-5.67268275e-04,  7.95374756e-01,  1.15159247e+00,\n",
       "        -7.06483478e-01, -8.26035021e-01],\n",
       "       [ 8.82213135e-02,  1.37208335e+00, -1.86788426e-01,\n",
       "         1.06065176e-01, -1.80388050e-01],\n",
       "       [-1.73992394e-01,  1.16818046e+00, -1.11843983e+00,\n",
       "         1.22554295e+00,  1.42547857e+00]])"
      ]
     },
     "execution_count": 8,
     "metadata": {},
     "output_type": "execute_result"
    }
   ],
   "source": [
    "a = np.random.randn(5,5)\n",
    "a"
   ]
  },
  {
   "cell_type": "code",
   "execution_count": 9,
   "metadata": {},
   "outputs": [
    {
     "data": {
      "text/plain": [
       "0.030570596599616726"
      ]
     },
     "execution_count": 9,
     "metadata": {},
     "output_type": "execute_result"
    }
   ],
   "source": [
    "a.mean()"
   ]
  },
  {
   "cell_type": "code",
   "execution_count": 10,
   "metadata": {},
   "outputs": [
    {
     "data": {
      "text/plain": [
       "0.9149012349912101"
      ]
     },
     "execution_count": 10,
     "metadata": {},
     "output_type": "execute_result"
    }
   ],
   "source": [
    "a.std()"
   ]
  },
  {
   "cell_type": "code",
   "execution_count": 11,
   "metadata": {},
   "outputs": [
    {
     "data": {
      "text/plain": [
       "array([[False, False,  True,  True,  True],\n",
       "       [ True, False,  True, False, False],\n",
       "       [False,  True,  True, False, False],\n",
       "       [ True,  True, False,  True, False],\n",
       "       [False,  True, False,  True,  True]])"
      ]
     },
     "execution_count": 11,
     "metadata": {},
     "output_type": "execute_result"
    }
   ],
   "source": [
    "a>0"
   ]
  },
  {
   "cell_type": "code",
   "execution_count": 12,
   "metadata": {},
   "outputs": [
    {
     "data": {
      "text/plain": [
       "13"
      ]
     },
     "execution_count": 12,
     "metadata": {},
     "output_type": "execute_result"
    }
   ],
   "source": [
    "(a>0).sum()"
   ]
  },
  {
   "cell_type": "code",
   "execution_count": 13,
   "metadata": {},
   "outputs": [
    {
     "data": {
      "text/plain": [
       "array([[False, False, False, False, False],\n",
       "       [False, False, False, False, False],\n",
       "       [False, False,  True, False, False],\n",
       "       [False,  True, False, False, False],\n",
       "       [False,  True, False,  True,  True]])"
      ]
     },
     "execution_count": 13,
     "metadata": {},
     "output_type": "execute_result"
    }
   ],
   "source": [
    "a>1"
   ]
  },
  {
   "cell_type": "code",
   "execution_count": 14,
   "metadata": {},
   "outputs": [
    {
     "data": {
      "text/plain": [
       "Text(0.5,1,'Histogram - randn()')"
      ]
     },
     "execution_count": 14,
     "metadata": {},
     "output_type": "execute_result"
    },
    {
     "data": {
      "image/png": "[encoded data removed]",
      "text/plain": [
       "<matplotlib.figure.Figure at 0x1d97560eba8>"
      ]
     },
     "metadata": {},
     "output_type": "display_data"
    }
   ],
   "source": [
    "a3 = np.random.randn(1000000)\n",
    "\n",
    "plt.hist(a3, bins=300)\n",
    "plt.title('Histogram - randn()')"
   ]
  },
  {
   "cell_type": "code",
   "execution_count": 15,
   "metadata": {},
   "outputs": [
    {
     "data": {
      "text/plain": [
       "(4.581760412103479, -4.516265718048663)"
      ]
     },
     "execution_count": 15,
     "metadata": {},
     "output_type": "execute_result"
    }
   ],
   "source": [
    "a3.max(), a3.min()"
   ]
  },
  {
   "cell_type": "markdown",
   "metadata": {},
   "source": [
    "### randint()\n",
    "- 범위 안의 정수 선택"
   ]
  },
  {
   "cell_type": "code",
   "execution_count": 19,
   "metadata": {
    "scrolled": true
   },
   "outputs": [
    {
     "name": "stdout",
     "output_type": "stream",
     "text": [
      "Help on built-in function randint:\n",
      "\n",
      "randint(...) method of mtrand.RandomState instance\n",
      "    randint(low, high=None, size=None, dtype='l')\n",
      "    \n",
      "    Return random integers from `low` (inclusive) to `high` (exclusive).\n",
      "    \n",
      "    Return random integers from the \"discrete uniform\" distribution of\n",
      "    the specified dtype in the \"half-open\" interval [`low`, `high`). If\n",
      "    `high` is None (the default), then results are from [0, `low`).\n",
      "    \n",
      "    Parameters\n",
      "    ----------\n",
      "    low : int\n",
      "        Lowest (signed) integer to be drawn from the distribution (unless\n",
      "        ``high=None``, in which case this parameter is one above the\n",
      "        *highest* such integer).\n",
      "    high : int, optional\n",
      "        If provided, one above the largest (signed) integer to be drawn\n",
      "        from the distribution (see above for behavior if ``high=None``).\n",
      "    size : int or tuple of ints, optional\n",
      "        Output shape.  If the given shape is, e.g., ``(m, n, k)``, then\n",
      "        ``m * n * k`` samples are drawn.  Default is None, in which case a\n",
      "        single value is returned.\n",
      "    dtype : dtype, optional\n",
      "        Desired dtype of the result. All dtypes are determined by their\n",
      "        name, i.e., 'int64', 'int', etc, so byteorder is not available\n",
      "        and a specific precision may have different C types depending\n",
      "        on the platform. The default value is 'np.int'.\n",
      "    \n",
      "        .. versionadded:: 1.11.0\n",
      "    \n",
      "    Returns\n",
      "    -------\n",
      "    out : int or ndarray of ints\n",
      "        `size`-shaped array of random integers from the appropriate\n",
      "        distribution, or a single such random int if `size` not provided.\n",
      "    \n",
      "    See Also\n",
      "    --------\n",
      "    random.random_integers : similar to `randint`, only for the closed\n",
      "        interval [`low`, `high`], and 1 is the lowest value if `high` is\n",
      "        omitted. In particular, this other one is the one to use to generate\n",
      "        uniformly distributed discrete non-integers.\n",
      "    \n",
      "    Examples\n",
      "    --------\n",
      "    >>> np.random.randint(2, size=10)\n",
      "    array([1, 0, 0, 0, 1, 1, 0, 0, 1, 0])\n",
      "    >>> np.random.randint(1, size=10)\n",
      "    array([0, 0, 0, 0, 0, 0, 0, 0, 0, 0])\n",
      "    \n",
      "    Generate a 2 x 4 array of ints between 0 and 4, inclusive:\n",
      "    \n",
      "    >>> np.random.randint(5, size=(2, 4))\n",
      "    array([[4, 0, 2, 1],\n",
      "           [3, 2, 2, 0]])\n",
      "\n"
     ]
    }
   ],
   "source": [
    "help(np.random.randint)"
   ]
  },
  {
   "cell_type": "code",
   "execution_count": 53,
   "metadata": {},
   "outputs": [
    {
     "data": {
      "text/plain": [
       "array([[4, 3, 4],\n",
       "       [5, 5, 5],\n",
       "       [3, 5, 5],\n",
       "       [3, 3, 5]])"
      ]
     },
     "execution_count": 53,
     "metadata": {},
     "output_type": "execute_result"
    }
   ],
   "source": [
    "a = np.random.randint(3,6, size=[4,3])\n",
    "a"
   ]
  },
  {
   "cell_type": "code",
   "execution_count": 58,
   "metadata": {},
   "outputs": [
    {
     "data": {
      "text/plain": [
       "array([[5., 4., 3.],\n",
       "       [3., 5., 5.],\n",
       "       [3., 3., 5.],\n",
       "       [5., 3., 5.]])"
      ]
     },
     "execution_count": 58,
     "metadata": {},
     "output_type": "execute_result"
    }
   ],
   "source": [
    "np.floor(np.random.rand(4,3)*3 + 3)"
   ]
  },
  {
   "cell_type": "code",
   "execution_count": 59,
   "metadata": {},
   "outputs": [
    {
     "data": {
      "text/plain": [
       "4.166666666666667"
      ]
     },
     "execution_count": 59,
     "metadata": {},
     "output_type": "execute_result"
    }
   ],
   "source": [
    "a.mean()"
   ]
  },
  {
   "cell_type": "code",
   "execution_count": 18,
   "metadata": {},
   "outputs": [
    {
     "data": {
      "text/plain": [
       "array([4.25, 4.5 , 3.75])"
      ]
     },
     "execution_count": 18,
     "metadata": {},
     "output_type": "execute_result"
    }
   ],
   "source": [
    "a.mean(axis=0)"
   ]
  },
  {
   "cell_type": "code",
   "execution_count": 16,
   "metadata": {},
   "outputs": [
    {
     "data": {
      "text/plain": [
       "array([-0.28265923, -0.3924567 ,  0.08277629,  0.23983867,  0.50535395])"
      ]
     },
     "execution_count": 16,
     "metadata": {},
     "output_type": "execute_result"
    }
   ],
   "source": [
    "a.mean(axis=1) # axis=1 => 옆으로(행단위로) 평균을 구한다"
   ]
  },
  {
   "cell_type": "code",
   "execution_count": 17,
   "metadata": {},
   "outputs": [
    {
     "data": {
      "text/plain": [
       "array([[1, 0, 0, 1, 0, 0, 0, 1, 0, 0],\n",
       "       [0, 0, 0, 0, 0, 1, 0, 0, 0, 0],\n",
       "       [1, 0, 1, 1, 1, 1, 1, 1, 1, 1],\n",
       "       [1, 0, 0, 0, 1, 0, 0, 1, 0, 1],\n",
       "       [1, 1, 1, 1, 1, 0, 1, 0, 0, 1],\n",
       "       [1, 0, 1, 0, 0, 0, 0, 0, 0, 1],\n",
       "       [0, 0, 1, 1, 1, 1, 0, 0, 0, 1],\n",
       "       [1, 1, 1, 1, 1, 1, 1, 0, 0, 1],\n",
       "       [0, 1, 0, 0, 1, 0, 1, 0, 0, 1],\n",
       "       [0, 0, 1, 1, 0, 1, 1, 0, 0, 1]])"
      ]
     },
     "execution_count": 17,
     "metadata": {},
     "output_type": "execute_result"
    }
   ],
   "source": [
    "a = np.random.randint(2, size=[1000,100])\n",
    "a[:10,:10]"
   ]
  },
  {
   "cell_type": "code",
   "execution_count": 18,
   "metadata": {
    "scrolled": true
   },
   "outputs": [
    {
     "data": {
      "text/plain": [
       "[46,\n",
       " 43,\n",
       " 45,\n",
       " 45,\n",
       " 49,\n",
       " 54,\n",
       " 51,\n",
       " 48,\n",
       " 47,\n",
       " 41,\n",
       " 55,\n",
       " 51,\n",
       " 53,\n",
       " 54,\n",
       " 47,\n",
       " 59,\n",
       " 47,\n",
       " 50,\n",
       " 51,\n",
       " 57,\n",
       " 52,\n",
       " 55,\n",
       " 50,\n",
       " 38,\n",
       " 50,\n",
       " 49,\n",
       " 55,\n",
       " 43,\n",
       " 48,\n",
       " 55,\n",
       " 53,\n",
       " 48,\n",
       " 60,\n",
       " 54,\n",
       " 51,\n",
       " 52,\n",
       " 43,\n",
       " 48,\n",
       " 59,\n",
       " 49,\n",
       " 51,\n",
       " 41,\n",
       " 40,\n",
       " 49,\n",
       " 47,\n",
       " 56,\n",
       " 55,\n",
       " 41,\n",
       " 55,\n",
       " 49,\n",
       " 50,\n",
       " 50,\n",
       " 54,\n",
       " 50,\n",
       " 55,\n",
       " 45,\n",
       " 43,\n",
       " 53,\n",
       " 47,\n",
       " 56,\n",
       " 43,\n",
       " 50,\n",
       " 43,\n",
       " 50,\n",
       " 47,\n",
       " 49,\n",
       " 57,\n",
       " 53,\n",
       " 51,\n",
       " 49,\n",
       " 48,\n",
       " 57,\n",
       " 50,\n",
       " 53,\n",
       " 51,\n",
       " 52,\n",
       " 51,\n",
       " 50,\n",
       " 50,\n",
       " 41,\n",
       " 62,\n",
       " 61,\n",
       " 51,\n",
       " 58,\n",
       " 56,\n",
       " 49,\n",
       " 47,\n",
       " 54,\n",
       " 50,\n",
       " 49,\n",
       " 55,\n",
       " 56,\n",
       " 44,\n",
       " 48,\n",
       " 54,\n",
       " 56,\n",
       " 43,\n",
       " 45,\n",
       " 48,\n",
       " 51,\n",
       " 55,\n",
       " 53,\n",
       " 54,\n",
       " 55,\n",
       " 49,\n",
       " 59,\n",
       " 50,\n",
       " 56,\n",
       " 46,\n",
       " 55,\n",
       " 53,\n",
       " 51,\n",
       " 51,\n",
       " 54,\n",
       " 46,\n",
       " 42,\n",
       " 46,\n",
       " 56,\n",
       " 48,\n",
       " 52,\n",
       " 50,\n",
       " 55,\n",
       " 45,\n",
       " 55,\n",
       " 51,\n",
       " 55,\n",
       " 51,\n",
       " 47,\n",
       " 54,\n",
       " 50,\n",
       " 41,\n",
       " 55,\n",
       " 50,\n",
       " 54,\n",
       " 49,\n",
       " 53,\n",
       " 54,\n",
       " 43,\n",
       " 54,\n",
       " 53,\n",
       " 50,\n",
       " 56,\n",
       " 45,\n",
       " 49,\n",
       " 48,\n",
       " 51,\n",
       " 45,\n",
       " 47,\n",
       " 48,\n",
       " 45,\n",
       " 45,\n",
       " 44,\n",
       " 59,\n",
       " 44,\n",
       " 49,\n",
       " 50,\n",
       " 44,\n",
       " 53,\n",
       " 51,\n",
       " 58,\n",
       " 49,\n",
       " 48,\n",
       " 50,\n",
       " 59,\n",
       " 42,\n",
       " 43,\n",
       " 51,\n",
       " 52,\n",
       " 41,\n",
       " 50,\n",
       " 52,\n",
       " 53,\n",
       " 54,\n",
       " 51,\n",
       " 46,\n",
       " 42,\n",
       " 54,\n",
       " 51,\n",
       " 53,\n",
       " 51,\n",
       " 51,\n",
       " 44,\n",
       " 47,\n",
       " 42,\n",
       " 55,\n",
       " 50,\n",
       " 44,\n",
       " 45,\n",
       " 50,\n",
       " 53,\n",
       " 59,\n",
       " 54,\n",
       " 53,\n",
       " 51,\n",
       " 56,\n",
       " 43,\n",
       " 43,\n",
       " 46,\n",
       " 49,\n",
       " 45,\n",
       " 41,\n",
       " 50,\n",
       " 49,\n",
       " 49,\n",
       " 55,\n",
       " 49,\n",
       " 55,\n",
       " 46,\n",
       " 47,\n",
       " 51,\n",
       " 50,\n",
       " 46,\n",
       " 46,\n",
       " 46,\n",
       " 51,\n",
       " 53,\n",
       " 53,\n",
       " 49,\n",
       " 53,\n",
       " 46,\n",
       " 57,\n",
       " 55,\n",
       " 48,\n",
       " 46,\n",
       " 51,\n",
       " 51,\n",
       " 44,\n",
       " 49,\n",
       " 50,\n",
       " 50,\n",
       " 56,\n",
       " 55,\n",
       " 47,\n",
       " 49,\n",
       " 48,\n",
       " 53,\n",
       " 46,\n",
       " 57,\n",
       " 41,\n",
       " 52,\n",
       " 60,\n",
       " 50,\n",
       " 37,\n",
       " 41,\n",
       " 48,\n",
       " 52,\n",
       " 62,\n",
       " 48,\n",
       " 45,\n",
       " 54,\n",
       " 48,\n",
       " 53,\n",
       " 37,\n",
       " 52,\n",
       " 39,\n",
       " 37,\n",
       " 50,\n",
       " 55,\n",
       " 44,\n",
       " 39,\n",
       " 47,\n",
       " 49,\n",
       " 54,\n",
       " 43,\n",
       " 50,\n",
       " 47,\n",
       " 47,\n",
       " 49,\n",
       " 56,\n",
       " 52,\n",
       " 48,\n",
       " 43,\n",
       " 52,\n",
       " 48,\n",
       " 54,\n",
       " 46,\n",
       " 50,\n",
       " 45,\n",
       " 47,\n",
       " 49,\n",
       " 47,\n",
       " 52,\n",
       " 54,\n",
       " 57,\n",
       " 48,\n",
       " 54,\n",
       " 47,\n",
       " 46,\n",
       " 51,\n",
       " 59,\n",
       " 52,\n",
       " 47,\n",
       " 51,\n",
       " 49,\n",
       " 46,\n",
       " 50,\n",
       " 48,\n",
       " 46,\n",
       " 55,\n",
       " 50,\n",
       " 47,\n",
       " 51,\n",
       " 47,\n",
       " 50,\n",
       " 49,\n",
       " 51,\n",
       " 46,\n",
       " 52,\n",
       " 45,\n",
       " 50,\n",
       " 45,\n",
       " 55,\n",
       " 52,\n",
       " 46,\n",
       " 53,\n",
       " 48,\n",
       " 47,\n",
       " 49,\n",
       " 48,\n",
       " 48,\n",
       " 49,\n",
       " 62,\n",
       " 52,\n",
       " 40,\n",
       " 54,\n",
       " 47,\n",
       " 47,\n",
       " 52,\n",
       " 56,\n",
       " 40,\n",
       " 53,\n",
       " 48,\n",
       " 50,\n",
       " 43,\n",
       " 53,\n",
       " 55,\n",
       " 55,\n",
       " 53,\n",
       " 46,\n",
       " 46,\n",
       " 52,\n",
       " 54,\n",
       " 45,\n",
       " 49,\n",
       " 48,\n",
       " 63,\n",
       " 51,\n",
       " 49,\n",
       " 54,\n",
       " 54,\n",
       " 54,\n",
       " 51,\n",
       " 47,\n",
       " 46,\n",
       " 49,\n",
       " 44,\n",
       " 47,\n",
       " 50,\n",
       " 53,\n",
       " 54,\n",
       " 48,\n",
       " 52,\n",
       " 45,\n",
       " 50,\n",
       " 56,\n",
       " 58,\n",
       " 45,\n",
       " 48,\n",
       " 47,\n",
       " 46,\n",
       " 53,\n",
       " 48,\n",
       " 52,\n",
       " 48,\n",
       " 50,\n",
       " 44,\n",
       " 46,\n",
       " 45,\n",
       " 54,\n",
       " 52,\n",
       " 50,\n",
       " 55,\n",
       " 49,\n",
       " 54,\n",
       " 56,\n",
       " 55,\n",
       " 49,\n",
       " 56,\n",
       " 51,\n",
       " 43,\n",
       " 60,\n",
       " 55,\n",
       " 45,\n",
       " 52,\n",
       " 50,\n",
       " 49,\n",
       " 56,\n",
       " 52,\n",
       " 57,\n",
       " 47,\n",
       " 52,\n",
       " 51,\n",
       " 59,\n",
       " 49,\n",
       " 37,\n",
       " 47,\n",
       " 44,\n",
       " 54,\n",
       " 42,\n",
       " 50,\n",
       " 46,\n",
       " 45,\n",
       " 55,\n",
       " 46,\n",
       " 46,\n",
       " 49,\n",
       " 58,\n",
       " 45,\n",
       " 56,\n",
       " 42,\n",
       " 57,\n",
       " 49,\n",
       " 54,\n",
       " 52,\n",
       " 46,\n",
       " 48,\n",
       " 49,\n",
       " 49,\n",
       " 50,\n",
       " 47,\n",
       " 56,\n",
       " 54,\n",
       " 43,\n",
       " 48,\n",
       " 48,\n",
       " 46,\n",
       " 57,\n",
       " 59,\n",
       " 53,\n",
       " 44,\n",
       " 51,\n",
       " 53,\n",
       " 40,\n",
       " 38,\n",
       " 42,\n",
       " 50,\n",
       " 43,\n",
       " 46,\n",
       " 43,\n",
       " 56,\n",
       " 54,\n",
       " 54,\n",
       " 40,\n",
       " 56,\n",
       " 36,\n",
       " 47,\n",
       " 55,\n",
       " 49,\n",
       " 44,\n",
       " 46,\n",
       " 52,\n",
       " 62,\n",
       " 45,\n",
       " 51,\n",
       " 51,\n",
       " 48,\n",
       " 60,\n",
       " 54,\n",
       " 43,\n",
       " 42,\n",
       " 50,\n",
       " 54,\n",
       " 54,\n",
       " 45,\n",
       " 52,\n",
       " 50,\n",
       " 51,\n",
       " 43,\n",
       " 47,\n",
       " 50,\n",
       " 49,\n",
       " 44,\n",
       " 48,\n",
       " 47,\n",
       " 43,\n",
       " 52,\n",
       " 50,\n",
       " 58,\n",
       " 41,\n",
       " 57,\n",
       " 49,\n",
       " 53,\n",
       " 49,\n",
       " 46,\n",
       " 50,\n",
       " 48,\n",
       " 55,\n",
       " 51,\n",
       " 41,\n",
       " 62,\n",
       " 57,\n",
       " 44,\n",
       " 49,\n",
       " 52,\n",
       " 51,\n",
       " 57,\n",
       " 47,\n",
       " 50,\n",
       " 42,\n",
       " 46,\n",
       " 46,\n",
       " 52,\n",
       " 45,\n",
       " 58,\n",
       " 50,\n",
       " 45,\n",
       " 51,\n",
       " 48,\n",
       " 48,\n",
       " 55,\n",
       " 57,\n",
       " 46,\n",
       " 44,\n",
       " 46,\n",
       " 52,\n",
       " 49,\n",
       " 52,\n",
       " 47,\n",
       " 52,\n",
       " 46,\n",
       " 46,\n",
       " 45,\n",
       " 51,\n",
       " 51,\n",
       " 55,\n",
       " 56,\n",
       " 47,\n",
       " 45,\n",
       " 52,\n",
       " 58,\n",
       " 49,\n",
       " 54,\n",
       " 58,\n",
       " 55,\n",
       " 53,\n",
       " 52,\n",
       " 47,\n",
       " 50,\n",
       " 49,\n",
       " 48,\n",
       " 48,\n",
       " 51,\n",
       " 58,\n",
       " 56,\n",
       " 41,\n",
       " 45,\n",
       " 44,\n",
       " 50,\n",
       " 55,\n",
       " 46,\n",
       " 49,\n",
       " 47,\n",
       " 46,\n",
       " 44,\n",
       " 52,\n",
       " 54,\n",
       " 48,\n",
       " 41,\n",
       " 49,\n",
       " 57,\n",
       " 54,\n",
       " 49,\n",
       " 47,\n",
       " 54,\n",
       " 46,\n",
       " 48,\n",
       " 52,\n",
       " 49,\n",
       " 53,\n",
       " 49,\n",
       " 54,\n",
       " 56,\n",
       " 47,\n",
       " 49,\n",
       " 50,\n",
       " 59,\n",
       " 51,\n",
       " 55,\n",
       " 51,\n",
       " 52,\n",
       " 52,\n",
       " 44,\n",
       " 57,\n",
       " 57,\n",
       " 45,\n",
       " 50,\n",
       " 54,\n",
       " 48,\n",
       " 50,\n",
       " 46,\n",
       " 57,\n",
       " 49,\n",
       " 50,\n",
       " 55,\n",
       " 49,\n",
       " 57,\n",
       " 45,\n",
       " 44,\n",
       " 57,\n",
       " 42,\n",
       " 56,\n",
       " 45,\n",
       " 49,\n",
       " 44,\n",
       " 49,\n",
       " 55,\n",
       " 38,\n",
       " 54,\n",
       " 51,\n",
       " 58,\n",
       " 36,\n",
       " 43,\n",
       " 36,\n",
       " 49,\n",
       " 48,\n",
       " 54,\n",
       " 52,\n",
       " 48,\n",
       " 52,\n",
       " 53,\n",
       " 42,\n",
       " 45,\n",
       " 57,\n",
       " 47,\n",
       " 65,\n",
       " 56,\n",
       " 55,\n",
       " 47,\n",
       " 49,\n",
       " 53,\n",
       " 41,\n",
       " 50,\n",
       " 44,\n",
       " 51,\n",
       " 54,\n",
       " 46,\n",
       " 47,\n",
       " 49,\n",
       " 51,\n",
       " 59,\n",
       " 54,\n",
       " 52,\n",
       " 64,\n",
       " 46,\n",
       " 56,\n",
       " 48,\n",
       " 45,\n",
       " 50,\n",
       " 58,\n",
       " 60,\n",
       " 57,\n",
       " 46,\n",
       " 49,\n",
       " 45,\n",
       " 37,\n",
       " 56,\n",
       " 54,\n",
       " 45,\n",
       " 63,\n",
       " 52,\n",
       " 44,\n",
       " 52,\n",
       " 46,\n",
       " 44,\n",
       " 49,\n",
       " 45,\n",
       " 58,\n",
       " 54,\n",
       " 51,\n",
       " 49,\n",
       " 54,\n",
       " 57,\n",
       " 47,\n",
       " 48,\n",
       " 55,\n",
       " 38,\n",
       " 49,\n",
       " 49,\n",
       " 49,\n",
       " 47,\n",
       " 47,\n",
       " 48,\n",
       " 57,\n",
       " 47,\n",
       " 45,\n",
       " 47,\n",
       " 53,\n",
       " 47,\n",
       " 48,\n",
       " 47,\n",
       " 46,\n",
       " 56,\n",
       " 48,\n",
       " 59,\n",
       " 46,\n",
       " 50,\n",
       " 47,\n",
       " 46,\n",
       " 48,\n",
       " 52,\n",
       " 63,\n",
       " 49,\n",
       " 46,\n",
       " 56,\n",
       " 53,\n",
       " 50,\n",
       " 54,\n",
       " 60,\n",
       " 55,\n",
       " 41,\n",
       " 50,\n",
       " 61,\n",
       " 44,\n",
       " 54,\n",
       " 48,\n",
       " 54,\n",
       " 51,\n",
       " 52,\n",
       " 49,\n",
       " 48,\n",
       " 54,\n",
       " 47,\n",
       " 53,\n",
       " 45,\n",
       " 56,\n",
       " 48,\n",
       " 43,\n",
       " 40,\n",
       " 55,\n",
       " 42,\n",
       " 52,\n",
       " 46,\n",
       " 51,\n",
       " 53,\n",
       " 51,\n",
       " 53,\n",
       " 49,\n",
       " 53,\n",
       " 55,\n",
       " 46,\n",
       " 49,\n",
       " 41,\n",
       " 51,\n",
       " 49,\n",
       " 53,\n",
       " 45,\n",
       " 50,\n",
       " 55,\n",
       " 52,\n",
       " 46,\n",
       " 46,\n",
       " 38,\n",
       " 54,\n",
       " 62,\n",
       " 55,\n",
       " 53,\n",
       " 50,\n",
       " 57,\n",
       " 53,\n",
       " 36,\n",
       " 50,\n",
       " 59,\n",
       " 58,\n",
       " 52,\n",
       " 43,\n",
       " 46,\n",
       " 50,\n",
       " 44,\n",
       " 53,\n",
       " 57,\n",
       " 51,\n",
       " 45,\n",
       " 54,\n",
       " 49,\n",
       " 52,\n",
       " 47,\n",
       " 54,\n",
       " 54,\n",
       " 44,\n",
       " 53,\n",
       " 48,\n",
       " 55,\n",
       " 54,\n",
       " 58,\n",
       " 56,\n",
       " 58,\n",
       " 58,\n",
       " 53,\n",
       " 49,\n",
       " 44,\n",
       " 63,\n",
       " 51,\n",
       " 48,\n",
       " 47,\n",
       " 50,\n",
       " 54,\n",
       " 45,\n",
       " 51,\n",
       " 62,\n",
       " 45,\n",
       " 48,\n",
       " 48,\n",
       " 50,\n",
       " 42,\n",
       " 43,\n",
       " 47,\n",
       " 44,\n",
       " 53,\n",
       " 43,\n",
       " 43,\n",
       " 50,\n",
       " 43,\n",
       " 49,\n",
       " 48,\n",
       " 48,\n",
       " 51,\n",
       " 53,\n",
       " 45,\n",
       " 54,\n",
       " 52,\n",
       " 46,\n",
       " 38,\n",
       " 41,\n",
       " 58,\n",
       " 51,\n",
       " 44,\n",
       " 65,\n",
       " 46,\n",
       " 47,\n",
       " 48,\n",
       " 59,\n",
       " 60,\n",
       " 43,\n",
       " 48,\n",
       " 51,\n",
       " 48,\n",
       " 53,\n",
       " 61,\n",
       " 49,\n",
       " 45,\n",
       " 48,\n",
       " 49,\n",
       " 57,\n",
       " 44,\n",
       " 46,\n",
       " 48,\n",
       " 59,\n",
       " 40,\n",
       " 56,\n",
       " 50,\n",
       " 57,\n",
       " 49,\n",
       " 46,\n",
       " 48,\n",
       " 44,\n",
       " 47,\n",
       " 58,\n",
       " 56,\n",
       " 59,\n",
       " 52,\n",
       " 47,\n",
       " 50,\n",
       " 54,\n",
       " 52,\n",
       " 64,\n",
       " 49,\n",
       " 47,\n",
       " 63,\n",
       " 45,\n",
       " 45,\n",
       " 49,\n",
       " 46,\n",
       " 53,\n",
       " 50,\n",
       " 49,\n",
       " 49,\n",
       " 51,\n",
       " 47,\n",
       " 43,\n",
       " 51,\n",
       " 55,\n",
       " 47,\n",
       " 49,\n",
       " 45,\n",
       " 47,\n",
       " 51,\n",
       " 51,\n",
       " 58,\n",
       " 52,\n",
       " 47,\n",
       " 61,\n",
       " 50,\n",
       " 44,\n",
       " 41,\n",
       " 54,\n",
       " 52,\n",
       " 49,\n",
       " 52,\n",
       " 47,\n",
       " 50,\n",
       " 53,\n",
       " 49,\n",
       " 45,\n",
       " 46,\n",
       " 38,\n",
       " 51,\n",
       " 51,\n",
       " 45,\n",
       " 48,\n",
       " 56,\n",
       " 57,\n",
       " 47,\n",
       " 58,\n",
       " 44,\n",
       " 55,\n",
       " 64,\n",
       " 58,\n",
       " 55,\n",
       " 51,\n",
       " 51,\n",
       " 48,\n",
       " 59,\n",
       " 60,\n",
       " 57,\n",
       " 51,\n",
       " 44,\n",
       " 49,\n",
       " 45,\n",
       " 66,\n",
       " 47,\n",
       " 44,\n",
       " 53,\n",
       " 47,\n",
       " 48,\n",
       " 46,\n",
       " 54,\n",
       " 49,\n",
       " 34,\n",
       " 54,\n",
       " 43,\n",
       " 54,\n",
       " 45,\n",
       " 51,\n",
       " 47,\n",
       " 54,\n",
       " 52,\n",
       " 58,\n",
       " 50,\n",
       " 46,\n",
       " 48,\n",
       " 41,\n",
       " 51,\n",
       " 57,\n",
       " 49,\n",
       " 52,\n",
       " 59,\n",
       " 57,\n",
       " 45,\n",
       " 42,\n",
       " 56,\n",
       " 48,\n",
       " 48,\n",
       " 56,\n",
       " 51,\n",
       " 43,\n",
       " 41,\n",
       " 52,\n",
       " 48,\n",
       " 54,\n",
       " 41,\n",
       " 48,\n",
       " 53,\n",
       " 49,\n",
       " 44,\n",
       " 48,\n",
       " 45,\n",
       " 58,\n",
       " 55,\n",
       " 55,\n",
       " 43,\n",
       " 59,\n",
       " 55,\n",
       " 55,\n",
       " 52,\n",
       " 54,\n",
       " 55,\n",
       " 51,\n",
       " 40,\n",
       " 45,\n",
       " 48]"
      ]
     },
     "execution_count": 18,
     "metadata": {},
     "output_type": "execute_result"
    }
   ],
   "source": [
    "result = [sum(trial) for trial in a]\n",
    "result"
   ]
  },
  {
   "cell_type": "code",
   "execution_count": 19,
   "metadata": {
    "scrolled": true
   },
   "outputs": [
    {
     "data": {
      "text/plain": [
       "array([46, 43, 45, 45, 49, 54, 51, 48, 47, 41, 55, 51, 53, 54, 47, 59, 47,\n",
       "       50, 51, 57, 52, 55, 50, 38, 50, 49, 55, 43, 48, 55, 53, 48, 60, 54,\n",
       "       51, 52, 43, 48, 59, 49, 51, 41, 40, 49, 47, 56, 55, 41, 55, 49, 50,\n",
       "       50, 54, 50, 55, 45, 43, 53, 47, 56, 43, 50, 43, 50, 47, 49, 57, 53,\n",
       "       51, 49, 48, 57, 50, 53, 51, 52, 51, 50, 50, 41, 62, 61, 51, 58, 56,\n",
       "       49, 47, 54, 50, 49, 55, 56, 44, 48, 54, 56, 43, 45, 48, 51, 55, 53,\n",
       "       54, 55, 49, 59, 50, 56, 46, 55, 53, 51, 51, 54, 46, 42, 46, 56, 48,\n",
       "       52, 50, 55, 45, 55, 51, 55, 51, 47, 54, 50, 41, 55, 50, 54, 49, 53,\n",
       "       54, 43, 54, 53, 50, 56, 45, 49, 48, 51, 45, 47, 48, 45, 45, 44, 59,\n",
       "       44, 49, 50, 44, 53, 51, 58, 49, 48, 50, 59, 42, 43, 51, 52, 41, 50,\n",
       "       52, 53, 54, 51, 46, 42, 54, 51, 53, 51, 51, 44, 47, 42, 55, 50, 44,\n",
       "       45, 50, 53, 59, 54, 53, 51, 56, 43, 43, 46, 49, 45, 41, 50, 49, 49,\n",
       "       55, 49, 55, 46, 47, 51, 50, 46, 46, 46, 51, 53, 53, 49, 53, 46, 57,\n",
       "       55, 48, 46, 51, 51, 44, 49, 50, 50, 56, 55, 47, 49, 48, 53, 46, 57,\n",
       "       41, 52, 60, 50, 37, 41, 48, 52, 62, 48, 45, 54, 48, 53, 37, 52, 39,\n",
       "       37, 50, 55, 44, 39, 47, 49, 54, 43, 50, 47, 47, 49, 56, 52, 48, 43,\n",
       "       52, 48, 54, 46, 50, 45, 47, 49, 47, 52, 54, 57, 48, 54, 47, 46, 51,\n",
       "       59, 52, 47, 51, 49, 46, 50, 48, 46, 55, 50, 47, 51, 47, 50, 49, 51,\n",
       "       46, 52, 45, 50, 45, 55, 52, 46, 53, 48, 47, 49, 48, 48, 49, 62, 52,\n",
       "       40, 54, 47, 47, 52, 56, 40, 53, 48, 50, 43, 53, 55, 55, 53, 46, 46,\n",
       "       52, 54, 45, 49, 48, 63, 51, 49, 54, 54, 54, 51, 47, 46, 49, 44, 47,\n",
       "       50, 53, 54, 48, 52, 45, 50, 56, 58, 45, 48, 47, 46, 53, 48, 52, 48,\n",
       "       50, 44, 46, 45, 54, 52, 50, 55, 49, 54, 56, 55, 49, 56, 51, 43, 60,\n",
       "       55, 45, 52, 50, 49, 56, 52, 57, 47, 52, 51, 59, 49, 37, 47, 44, 54,\n",
       "       42, 50, 46, 45, 55, 46, 46, 49, 58, 45, 56, 42, 57, 49, 54, 52, 46,\n",
       "       48, 49, 49, 50, 47, 56, 54, 43, 48, 48, 46, 57, 59, 53, 44, 51, 53,\n",
       "       40, 38, 42, 50, 43, 46, 43, 56, 54, 54, 40, 56, 36, 47, 55, 49, 44,\n",
       "       46, 52, 62, 45, 51, 51, 48, 60, 54, 43, 42, 50, 54, 54, 45, 52, 50,\n",
       "       51, 43, 47, 50, 49, 44, 48, 47, 43, 52, 50, 58, 41, 57, 49, 53, 49,\n",
       "       46, 50, 48, 55, 51, 41, 62, 57, 44, 49, 52, 51, 57, 47, 50, 42, 46,\n",
       "       46, 52, 45, 58, 50, 45, 51, 48, 48, 55, 57, 46, 44, 46, 52, 49, 52,\n",
       "       47, 52, 46, 46, 45, 51, 51, 55, 56, 47, 45, 52, 58, 49, 54, 58, 55,\n",
       "       53, 52, 47, 50, 49, 48, 48, 51, 58, 56, 41, 45, 44, 50, 55, 46, 49,\n",
       "       47, 46, 44, 52, 54, 48, 41, 49, 57, 54, 49, 47, 54, 46, 48, 52, 49,\n",
       "       53, 49, 54, 56, 47, 49, 50, 59, 51, 55, 51, 52, 52, 44, 57, 57, 45,\n",
       "       50, 54, 48, 50, 46, 57, 49, 50, 55, 49, 57, 45, 44, 57, 42, 56, 45,\n",
       "       49, 44, 49, 55, 38, 54, 51, 58, 36, 43, 36, 49, 48, 54, 52, 48, 52,\n",
       "       53, 42, 45, 57, 47, 65, 56, 55, 47, 49, 53, 41, 50, 44, 51, 54, 46,\n",
       "       47, 49, 51, 59, 54, 52, 64, 46, 56, 48, 45, 50, 58, 60, 57, 46, 49,\n",
       "       45, 37, 56, 54, 45, 63, 52, 44, 52, 46, 44, 49, 45, 58, 54, 51, 49,\n",
       "       54, 57, 47, 48, 55, 38, 49, 49, 49, 47, 47, 48, 57, 47, 45, 47, 53,\n",
       "       47, 48, 47, 46, 56, 48, 59, 46, 50, 47, 46, 48, 52, 63, 49, 46, 56,\n",
       "       53, 50, 54, 60, 55, 41, 50, 61, 44, 54, 48, 54, 51, 52, 49, 48, 54,\n",
       "       47, 53, 45, 56, 48, 43, 40, 55, 42, 52, 46, 51, 53, 51, 53, 49, 53,\n",
       "       55, 46, 49, 41, 51, 49, 53, 45, 50, 55, 52, 46, 46, 38, 54, 62, 55,\n",
       "       53, 50, 57, 53, 36, 50, 59, 58, 52, 43, 46, 50, 44, 53, 57, 51, 45,\n",
       "       54, 49, 52, 47, 54, 54, 44, 53, 48, 55, 54, 58, 56, 58, 58, 53, 49,\n",
       "       44, 63, 51, 48, 47, 50, 54, 45, 51, 62, 45, 48, 48, 50, 42, 43, 47,\n",
       "       44, 53, 43, 43, 50, 43, 49, 48, 48, 51, 53, 45, 54, 52, 46, 38, 41,\n",
       "       58, 51, 44, 65, 46, 47, 48, 59, 60, 43, 48, 51, 48, 53, 61, 49, 45,\n",
       "       48, 49, 57, 44, 46, 48, 59, 40, 56, 50, 57, 49, 46, 48, 44, 47, 58,\n",
       "       56, 59, 52, 47, 50, 54, 52, 64, 49, 47, 63, 45, 45, 49, 46, 53, 50,\n",
       "       49, 49, 51, 47, 43, 51, 55, 47, 49, 45, 47, 51, 51, 58, 52, 47, 61,\n",
       "       50, 44, 41, 54, 52, 49, 52, 47, 50, 53, 49, 45, 46, 38, 51, 51, 45,\n",
       "       48, 56, 57, 47, 58, 44, 55, 64, 58, 55, 51, 51, 48, 59, 60, 57, 51,\n",
       "       44, 49, 45, 66, 47, 44, 53, 47, 48, 46, 54, 49, 34, 54, 43, 54, 45,\n",
       "       51, 47, 54, 52, 58, 50, 46, 48, 41, 51, 57, 49, 52, 59, 57, 45, 42,\n",
       "       56, 48, 48, 56, 51, 43, 41, 52, 48, 54, 41, 48, 53, 49, 44, 48, 45,\n",
       "       58, 55, 55, 43, 59, 55, 55, 52, 54, 55, 51, 40, 45, 48])"
      ]
     },
     "execution_count": 19,
     "metadata": {},
     "output_type": "execute_result"
    }
   ],
   "source": [
    "a.sum(axis=1)"
   ]
  },
  {
   "cell_type": "code",
   "execution_count": 20,
   "metadata": {},
   "outputs": [
    {
     "data": {
      "image/png": "[encoded data removed]",
      "text/plain": [
       "<matplotlib.figure.Figure at 0x1d97562b940>"
      ]
     },
     "metadata": {},
     "output_type": "display_data"
    }
   ],
   "source": [
    "plt.hist(result, bins=20)\n",
    "pass"
   ]
  },
  {
   "cell_type": "code",
   "execution_count": 21,
   "metadata": {},
   "outputs": [
    {
     "data": {
      "text/plain": [
       "array([46, 43, 45, 45, 49, 54, 51, 48, 47, 41, 55, 51, 53, 54, 47, 59, 47,\n",
       "       50, 51, 57, 52, 55, 50, 38, 50, 49, 55, 43, 48, 55, 53, 48, 60, 54,\n",
       "       51, 52, 43, 48, 59, 49, 51, 41, 40, 49, 47, 56, 55, 41, 55, 49, 50,\n",
       "       50, 54, 50, 55, 45, 43, 53, 47, 56, 43, 50, 43, 50, 47, 49, 57, 53,\n",
       "       51, 49, 48, 57, 50, 53, 51, 52, 51, 50, 50, 41, 62, 61, 51, 58, 56,\n",
       "       49, 47, 54, 50, 49, 55, 56, 44, 48, 54, 56, 43, 45, 48, 51])"
      ]
     },
     "execution_count": 21,
     "metadata": {},
     "output_type": "execute_result"
    }
   ],
   "source": [
    "coin_count = a.sum(axis=1)\n",
    "coin_count[:100]"
   ]
  },
  {
   "cell_type": "code",
   "execution_count": 22,
   "metadata": {},
   "outputs": [
    {
     "data": {
      "text/plain": [
       "(array([ 0.,  0.,  0.,  0.,  0.,  0.,  0.,  0.,  0.,  0.,  0.,  0.,  0.,\n",
       "         0.,  0.,  0.,  0.,  0.,  0.,  0.,  0.,  0.,  0.,  0.,  0.,  0.,\n",
       "         0.,  0.,  0.,  0.,  0.,  0.,  0.,  0.,  1.,  0.,  4.,  5.,  7.,\n",
       "         2.,  8., 21., 14., 33., 37., 55., 63., 68., 75., 88., 74., 73.,\n",
       "        60., 51., 68., 54., 36., 31., 23., 19.,  8.,  4.,  7.,  5.,  3.,\n",
       "         2.,  1.,  0.,  0.,  0.,  0.,  0.,  0.,  0.,  0.,  0.,  0.,  0.,\n",
       "         0.,  0.,  0.,  0.,  0.,  0.,  0.,  0.,  0.,  0.,  0.,  0.,  0.,\n",
       "         0.,  0.,  0.,  0.,  0.,  0.,  0.,  0.,  0.]),\n",
       " array([  0,   1,   2,   3,   4,   5,   6,   7,   8,   9,  10,  11,  12,\n",
       "         13,  14,  15,  16,  17,  18,  19,  20,  21,  22,  23,  24,  25,\n",
       "         26,  27,  28,  29,  30,  31,  32,  33,  34,  35,  36,  37,  38,\n",
       "         39,  40,  41,  42,  43,  44,  45,  46,  47,  48,  49,  50,  51,\n",
       "         52,  53,  54,  55,  56,  57,  58,  59,  60,  61,  62,  63,  64,\n",
       "         65,  66,  67,  68,  69,  70,  71,  72,  73,  74,  75,  76,  77,\n",
       "         78,  79,  80,  81,  82,  83,  84,  85,  86,  87,  88,  89,  90,\n",
       "         91,  92,  93,  94,  95,  96,  97,  98,  99, 100]),\n",
       " <a list of 100 Patch objects>)"
      ]
     },
     "execution_count": 22,
     "metadata": {},
     "output_type": "execute_result"
    },
    {
     "data": {
      "image/png": "[encoded data removed]",
      "text/plain": [
       "<matplotlib.figure.Figure at 0x1d9761a3b70>"
      ]
     },
     "metadata": {},
     "output_type": "display_data"
    }
   ],
   "source": [
    "plt.hist(coin_count, bins=range(101))"
   ]
  },
  {
   "cell_type": "markdown",
   "metadata": {},
   "source": [
    "### normal()\n",
    "- 평균과 표준편차를 지정하여 랜덤 숫자 선택\n",
    "- randn() 과 비슷"
   ]
  },
  {
   "cell_type": "code",
   "execution_count": 71,
   "metadata": {},
   "outputs": [
    {
     "data": {
      "text/plain": [
       "array([14.57681314,  6.91560278,  7.81562692, 13.37028877,  3.79897785,\n",
       "       15.98929157,  6.21342556, 10.62646687, 13.50282482,  3.95727199,\n",
       "       15.82633365, 12.049567  ,  8.30989873,  9.48016729,  4.88114021,\n",
       "       10.49180229, 10.53334545, 12.55276345, 12.88209434, 12.96306108,\n",
       "       15.87916735, 12.04445365, 11.04793176, 14.59113918, 12.63244169,\n",
       "        8.60060811,  6.39343656,  6.73274839, 10.42205131,  6.05336708,\n",
       "       17.66419123,  7.83370525,  8.42960957,  6.59377942, 13.40509548,\n",
       "        7.31461723, 15.12776049,  7.17864617, 15.79536438, 14.13769506,\n",
       "       11.89523825, 15.59044356, 15.33699934, 11.32262131, 10.05217755,\n",
       "       11.30341428,  7.82003824,  7.51414771,  5.32197813, 13.50056479,\n",
       "       22.53397575, 11.35148201, 14.39904867, 10.59177533, 23.90471258,\n",
       "       13.31481324,  7.22584222, 15.30982681,  9.69819339,  3.69531745,\n",
       "       13.02733172,  9.08198531, 15.62619766, 13.69681237,  2.9310013 ,\n",
       "       16.2673308 ,  7.30552475, 10.26987236,  7.46010081, 10.65020229,\n",
       "        4.57205672,  8.55141542, 13.9650985 , 11.95212089, 17.50705092,\n",
       "       13.52417929, 15.25266375, 13.60611418,  7.51130236, 10.23208104,\n",
       "        8.15892415,  7.14755586,  6.00474059, 12.64478865, 12.33582382,\n",
       "       16.56836833, 10.6178596 , 14.90540074, 11.61062695,  2.40963883,\n",
       "       10.83735285,  7.09276871, 14.02668567,  7.24121154, 13.17581802,\n",
       "        8.62296371,  1.94514702,  4.40152535, 12.00175754,  5.66052854])"
      ]
     },
     "execution_count": 71,
     "metadata": {},
     "output_type": "execute_result"
    }
   ],
   "source": [
    "a = np.random.normal(10, 5, size=10000)\n",
    "a[:100]"
   ]
  },
  {
   "cell_type": "code",
   "execution_count": 74,
   "metadata": {},
   "outputs": [
    {
     "data": {
      "image/png": "[encoded data removed]",
      "text/plain": [
       "<matplotlib.figure.Figure at 0x1719da745f8>"
      ]
     },
     "metadata": {},
     "output_type": "display_data"
    }
   ],
   "source": [
    "plt.hist(a, bins=100)\n",
    "pass"
   ]
  },
  {
   "cell_type": "code",
   "execution_count": 26,
   "metadata": {},
   "outputs": [
    {
     "data": {
      "text/plain": [
       "9.913151820235019"
      ]
     },
     "execution_count": 26,
     "metadata": {},
     "output_type": "execute_result"
    }
   ],
   "source": [
    "a.mean()"
   ]
  },
  {
   "cell_type": "code",
   "execution_count": 27,
   "metadata": {},
   "outputs": [
    {
     "data": {
      "text/plain": [
       "4.982500761715181"
      ]
     },
     "execution_count": 27,
     "metadata": {},
     "output_type": "execute_result"
    }
   ],
   "source": [
    "a.std()"
   ]
  },
  {
   "cell_type": "code",
   "execution_count": 28,
   "metadata": {},
   "outputs": [
    {
     "data": {
      "text/plain": [
       "15"
      ]
     },
     "execution_count": 28,
     "metadata": {},
     "output_type": "execute_result"
    }
   ],
   "source": [
    "(a<-5).sum()"
   ]
  },
  {
   "cell_type": "code",
   "execution_count": 29,
   "metadata": {},
   "outputs": [
    {
     "data": {
      "text/plain": [
       "11"
      ]
     },
     "execution_count": 29,
     "metadata": {},
     "output_type": "execute_result"
    }
   ],
   "source": [
    "(a>25).sum()"
   ]
  },
  {
   "cell_type": "markdown",
   "metadata": {},
   "source": [
    "### uniform()\n",
    "- 정해진 범위 내에서 실수 선택"
   ]
  },
  {
   "cell_type": "code",
   "execution_count": 75,
   "metadata": {},
   "outputs": [],
   "source": [
    "a = np.random.uniform(100, 200, size=10000)\n",
    "# a"
   ]
  },
  {
   "cell_type": "code",
   "execution_count": 76,
   "metadata": {},
   "outputs": [
    {
     "data": {
      "text/plain": [
       "(array([1008., 1023.,  991.,  971., 1056.,  966., 1008., 1006.,  984.,\n",
       "         987.]), array([100.01506986, 110.01299649, 120.01092312, 130.00884976,\n",
       "        140.00677639, 150.00470302, 160.00262965, 170.00055628,\n",
       "        179.99848291, 189.99640954, 199.99433617]), <a list of 10 Patch objects>)"
      ]
     },
     "execution_count": 76,
     "metadata": {},
     "output_type": "execute_result"
    },
    {
     "data": {
      "image/png": "[encoded data removed]",
      "text/plain": [
       "<matplotlib.figure.Figure at 0x1719de2e518>"
      ]
     },
     "metadata": {},
     "output_type": "display_data"
    }
   ],
   "source": [
    "plt.hist(a)"
   ]
  },
  {
   "cell_type": "markdown",
   "metadata": {},
   "source": [
    "### permutation()\n",
    "- 숫자를 임의로 섞는다\n",
    "- 중복되지 않은 인덱스를 뽑아 낼 수 있다\n",
    "- 원본 데이터는 그대로 두고, 결과를 새로운 데이터로 생성한다"
   ]
  },
  {
   "cell_type": "code",
   "execution_count": 32,
   "metadata": {},
   "outputs": [
    {
     "data": {
      "text/plain": [
       "array([ 0,  1,  2,  3,  4,  5,  6,  7,  8,  9, 10, 11, 12, 13, 14, 15, 16,\n",
       "       17, 18, 19, 20, 21, 22, 23, 24, 25, 26, 27, 28, 29, 30, 31, 32, 33,\n",
       "       34, 35, 36, 37, 38, 39, 40, 41, 42, 43, 44, 45, 46, 47, 48, 49, 50,\n",
       "       51, 52, 53, 54, 55, 56, 57, 58, 59, 60, 61, 62, 63, 64, 65, 66, 67,\n",
       "       68, 69, 70, 71, 72, 73, 74, 75, 76, 77, 78, 79, 80, 81, 82, 83, 84,\n",
       "       85, 86, 87, 88, 89, 90, 91, 92, 93, 94, 95, 96, 97, 98, 99])"
      ]
     },
     "execution_count": 32,
     "metadata": {},
     "output_type": "execute_result"
    }
   ],
   "source": [
    "a = np.arange(100)\n",
    "a"
   ]
  },
  {
   "cell_type": "code",
   "execution_count": 33,
   "metadata": {},
   "outputs": [
    {
     "data": {
      "text/plain": [
       "array([76, 74, 39, 65, 52, 59,  7, 29, 83, 97, 28, 33, 99, 90, 13, 26, 62,\n",
       "       14, 30, 81,  8, 70, 48,  5, 57, 54,  9, 44, 87, 78,  4, 21, 15, 55,\n",
       "       12, 20, 98, 11, 16, 92, 75, 41, 47, 38, 31, 91, 71, 89, 45, 77,  6,\n",
       "       19, 69, 80, 36, 95, 42, 86, 34, 50, 96, 84, 73, 18, 40, 67, 88, 25,\n",
       "       82, 24, 63,  1, 46, 23, 64, 79,  0, 53, 61, 35, 72, 22, 58,  2, 17,\n",
       "       51, 94, 32, 37, 27, 68, 60,  3, 85, 93, 43, 56, 49, 10, 66])"
      ]
     },
     "execution_count": 33,
     "metadata": {},
     "output_type": "execute_result"
    }
   ],
   "source": [
    "a2 = np.random.permutation(a)\n",
    "a2"
   ]
  },
  {
   "cell_type": "markdown",
   "metadata": {},
   "source": [
    "> **연습문제**<br>\n",
    "> Iris 데이터를 줄 단위로(샘플 단위로) 섞으세요."
   ]
  },
  {
   "cell_type": "code",
   "execution_count": 77,
   "metadata": {},
   "outputs": [
    {
     "name": "stdout",
     "output_type": "stream",
     "text": [
      "Help on built-in function permutation:\n",
      "\n",
      "permutation(...) method of mtrand.RandomState instance\n",
      "    permutation(x)\n",
      "    \n",
      "    Randomly permute a sequence, or return a permuted range.\n",
      "    \n",
      "    If `x` is a multi-dimensional array, it is only shuffled along its\n",
      "    first index.\n",
      "    \n",
      "    Parameters\n",
      "    ----------\n",
      "    x : int or array_like\n",
      "        If `x` is an integer, randomly permute ``np.arange(x)``.\n",
      "        If `x` is an array, make a copy and shuffle the elements\n",
      "        randomly.\n",
      "    \n",
      "    Returns\n",
      "    -------\n",
      "    out : ndarray\n",
      "        Permuted sequence or array range.\n",
      "    \n",
      "    Examples\n",
      "    --------\n",
      "    >>> np.random.permutation(10)\n",
      "    array([1, 7, 4, 3, 0, 9, 2, 5, 8, 6])\n",
      "    \n",
      "    >>> np.random.permutation([1, 4, 9, 12, 15])\n",
      "    array([15,  1,  9,  4, 12])\n",
      "    \n",
      "    >>> arr = np.arange(9).reshape((3, 3))\n",
      "    >>> np.random.permutation(arr)\n",
      "    array([[6, 7, 8],\n",
      "           [0, 1, 2],\n",
      "           [3, 4, 5]])\n",
      "\n"
     ]
    }
   ],
   "source": [
    "help(np.random.permutation)"
   ]
  },
  {
   "cell_type": "code",
   "execution_count": 78,
   "metadata": {},
   "outputs": [],
   "source": [
    "import numpy as np\n",
    "\n",
    "iris_labels = ['Iris-setosa', 'Iris-versicolor', 'Iris-virginica']\n",
    "\n",
    "iris = np.loadtxt('iris.csv', skiprows=1, delimiter=',',\n",
    "                  converters={4: lambda s: iris_labels.index(s.decode())})"
   ]
  },
  {
   "cell_type": "code",
   "execution_count": 82,
   "metadata": {},
   "outputs": [],
   "source": [
    "indexes = np.random.permutation(range(150))"
   ]
  },
  {
   "cell_type": "code",
   "execution_count": 83,
   "metadata": {},
   "outputs": [
    {
     "data": {
      "text/plain": [
       "array([ 60,  10,  87,  90,  41,  81, 131,  18, 130,  99, 148, 116,  15,\n",
       "        39,  16,  31, 117,  94,   0,  37,  92, 115,  14,   5, 147,  20,\n",
       "        27,   9, 120, 125,  38, 100,  75,  74,  98,  51,  83,  49,  28,\n",
       "        25,  30,  66, 127, 101,  29,  12,  65,  85, 145, 121,  84,   7,\n",
       "       105,   2, 122,   6, 103, 143,  24,  72,  23, 142,  67, 128, 110,\n",
       "        43, 108,   1, 132, 133,  40,  33, 109, 129,  34, 138,  17,  59,\n",
       "        35, 134,  69,  71, 106,  61,  19,  47, 126,  80,  91,  82,  13,\n",
       "        79, 146, 112,  73, 102,  78,  42,  53, 144, 139,  77,  32, 123,\n",
       "        48, 104,  55,  22, 107,   3,  63, 113,  62,  68,  86,  50, 135,\n",
       "         8, 149, 140,  93,  52,  89,  21,  64,  96, 141,  46,   4,  56,\n",
       "       111,  58, 114,  76, 118,  97, 137,  57,  54,  44, 124,  36,  70,\n",
       "        88, 119,  95,  45, 136,  26,  11])"
      ]
     },
     "execution_count": 83,
     "metadata": {},
     "output_type": "execute_result"
    }
   ],
   "source": [
    "indexes"
   ]
  },
  {
   "cell_type": "code",
   "execution_count": 84,
   "metadata": {},
   "outputs": [
    {
     "data": {
      "text/plain": [
       "array([[5. , 2. , 3.5, 1. , 1. ],\n",
       "       [5.4, 3.7, 1.5, 0.2, 0. ],\n",
       "       [6.3, 2.3, 4.4, 1.3, 1. ],\n",
       "       [5.5, 2.6, 4.4, 1.2, 1. ],\n",
       "       [4.5, 2.3, 1.3, 0.3, 0. ],\n",
       "       [5.5, 2.4, 3.7, 1. , 1. ],\n",
       "       [7.9, 3.8, 6.4, 2. , 2. ],\n",
       "       [5.7, 3.8, 1.7, 0.3, 0. ],\n",
       "       [7.4, 2.8, 6.1, 1.9, 2. ],\n",
       "       [5.7, 2.8, 4.1, 1.3, 1. ],\n",
       "       [6.2, 3.4, 5.4, 2.3, 2. ],\n",
       "       [6.5, 3. , 5.5, 1.8, 2. ],\n",
       "       [5.7, 4.4, 1.5, 0.4, 0. ],\n",
       "       [5.1, 3.4, 1.5, 0.2, 0. ],\n",
       "       [5.4, 3.9, 1.3, 0.4, 0. ],\n",
       "       [5.4, 3.4, 1.5, 0.4, 0. ],\n",
       "       [7.7, 3.8, 6.7, 2.2, 2. ],\n",
       "       [5.6, 2.7, 4.2, 1.3, 1. ],\n",
       "       [5.1, 3.5, 1.4, 0.2, 0. ],\n",
       "       [4.9, 3.1, 1.5, 0.1, 0. ],\n",
       "       [5.8, 2.6, 4. , 1.2, 1. ],\n",
       "       [6.4, 3.2, 5.3, 2.3, 2. ],\n",
       "       [5.8, 4. , 1.2, 0.2, 0. ],\n",
       "       [5.4, 3.9, 1.7, 0.4, 0. ],\n",
       "       [6.5, 3. , 5.2, 2. , 2. ],\n",
       "       [5.4, 3.4, 1.7, 0.2, 0. ],\n",
       "       [5.2, 3.5, 1.5, 0.2, 0. ],\n",
       "       [4.9, 3.1, 1.5, 0.1, 0. ],\n",
       "       [6.9, 3.2, 5.7, 2.3, 2. ],\n",
       "       [7.2, 3.2, 6. , 1.8, 2. ],\n",
       "       [4.4, 3. , 1.3, 0.2, 0. ],\n",
       "       [6.3, 3.3, 6. , 2.5, 2. ],\n",
       "       [6.6, 3. , 4.4, 1.4, 1. ],\n",
       "       [6.4, 2.9, 4.3, 1.3, 1. ],\n",
       "       [5.1, 2.5, 3. , 1.1, 1. ],\n",
       "       [6.4, 3.2, 4.5, 1.5, 1. ],\n",
       "       [6. , 2.7, 5.1, 1.6, 1. ],\n",
       "       [5. , 3.3, 1.4, 0.2, 0. ],\n",
       "       [5.2, 3.4, 1.4, 0.2, 0. ],\n",
       "       [5. , 3. , 1.6, 0.2, 0. ],\n",
       "       [4.8, 3.1, 1.6, 0.2, 0. ],\n",
       "       [5.6, 3. , 4.5, 1.5, 1. ],\n",
       "       [6.1, 3. , 4.9, 1.8, 2. ],\n",
       "       [5.8, 2.7, 5.1, 1.9, 2. ],\n",
       "       [4.7, 3.2, 1.6, 0.2, 0. ],\n",
       "       [4.8, 3. , 1.4, 0.1, 0. ],\n",
       "       [6.7, 3.1, 4.4, 1.4, 1. ],\n",
       "       [6. , 3.4, 4.5, 1.6, 1. ],\n",
       "       [6.7, 3. , 5.2, 2.3, 2. ],\n",
       "       [5.6, 2.8, 4.9, 2. , 2. ],\n",
       "       [5.4, 3. , 4.5, 1.5, 1. ],\n",
       "       [5. , 3.4, 1.5, 0.2, 0. ],\n",
       "       [7.6, 3. , 6.6, 2.1, 2. ],\n",
       "       [4.7, 3.2, 1.3, 0.2, 0. ],\n",
       "       [7.7, 2.8, 6.7, 2. , 2. ],\n",
       "       [4.6, 3.4, 1.4, 0.3, 0. ],\n",
       "       [6.3, 2.9, 5.6, 1.8, 2. ],\n",
       "       [6.8, 3.2, 5.9, 2.3, 2. ],\n",
       "       [4.8, 3.4, 1.9, 0.2, 0. ],\n",
       "       [6.3, 2.5, 4.9, 1.5, 1. ],\n",
       "       [5.1, 3.3, 1.7, 0.5, 0. ],\n",
       "       [5.8, 2.7, 5.1, 1.9, 2. ],\n",
       "       [5.8, 2.7, 4.1, 1. , 1. ],\n",
       "       [6.4, 2.8, 5.6, 2.1, 2. ],\n",
       "       [6.5, 3.2, 5.1, 2. , 2. ],\n",
       "       [5. , 3.5, 1.6, 0.6, 0. ],\n",
       "       [6.7, 2.5, 5.8, 1.8, 2. ],\n",
       "       [4.9, 3. , 1.4, 0.2, 0. ],\n",
       "       [6.4, 2.8, 5.6, 2.2, 2. ],\n",
       "       [6.3, 2.8, 5.1, 1.5, 2. ],\n",
       "       [5. , 3.5, 1.3, 0.3, 0. ],\n",
       "       [5.5, 4.2, 1.4, 0.2, 0. ],\n",
       "       [7.2, 3.6, 6.1, 2.5, 2. ],\n",
       "       [7.2, 3. , 5.8, 1.6, 2. ],\n",
       "       [4.9, 3.1, 1.5, 0.1, 0. ],\n",
       "       [6. , 3. , 4.8, 1.8, 2. ],\n",
       "       [5.1, 3.5, 1.4, 0.3, 0. ],\n",
       "       [5.2, 2.7, 3.9, 1.4, 1. ],\n",
       "       [5. , 3.2, 1.2, 0.2, 0. ],\n",
       "       [6.1, 2.6, 5.6, 1.4, 2. ],\n",
       "       [5.6, 2.5, 3.9, 1.1, 1. ],\n",
       "       [6.1, 2.8, 4. , 1.3, 1. ],\n",
       "       [4.9, 2.5, 4.5, 1.7, 2. ],\n",
       "       [5.9, 3. , 4.2, 1.5, 1. ],\n",
       "       [5.1, 3.8, 1.5, 0.3, 0. ],\n",
       "       [4.6, 3.2, 1.4, 0.2, 0. ],\n",
       "       [6.2, 2.8, 4.8, 1.8, 2. ],\n",
       "       [5.5, 2.4, 3.8, 1.1, 1. ],\n",
       "       [6.1, 3. , 4.6, 1.4, 1. ],\n",
       "       [5.8, 2.7, 3.9, 1.2, 1. ],\n",
       "       [4.3, 3. , 1.1, 0.1, 0. ],\n",
       "       [5.7, 2.6, 3.5, 1. , 1. ],\n",
       "       [6.3, 2.5, 5. , 1.9, 2. ],\n",
       "       [6.8, 3. , 5.5, 2.1, 2. ],\n",
       "       [6.1, 2.8, 4.7, 1.2, 1. ],\n",
       "       [7.1, 3. , 5.9, 2.1, 2. ],\n",
       "       [6. , 2.9, 4.5, 1.5, 1. ],\n",
       "       [4.4, 3.2, 1.3, 0.2, 0. ],\n",
       "       [5.5, 2.3, 4. , 1.3, 1. ],\n",
       "       [6.7, 3.3, 5.7, 2.5, 2. ],\n",
       "       [6.9, 3.1, 5.4, 2.1, 2. ],\n",
       "       [6.7, 3. , 5. , 1.7, 1. ],\n",
       "       [5.2, 4.1, 1.5, 0.1, 0. ],\n",
       "       [6.3, 2.7, 4.9, 1.8, 2. ],\n",
       "       [5.3, 3.7, 1.5, 0.2, 0. ],\n",
       "       [6.5, 3. , 5.8, 2.2, 2. ],\n",
       "       [5.7, 2.8, 4.5, 1.3, 1. ],\n",
       "       [4.6, 3.6, 1. , 0.2, 0. ],\n",
       "       [7.3, 2.9, 6.3, 1.8, 2. ],\n",
       "       [4.6, 3.1, 1.5, 0.2, 0. ],\n",
       "       [6.1, 2.9, 4.7, 1.4, 1. ],\n",
       "       [5.7, 2.5, 5. , 2. , 2. ],\n",
       "       [6. , 2.2, 4. , 1. , 1. ],\n",
       "       [6.2, 2.2, 4.5, 1.5, 1. ],\n",
       "       [6.7, 3.1, 4.7, 1.5, 1. ],\n",
       "       [7. , 3.2, 4.7, 1.4, 1. ],\n",
       "       [7.7, 3. , 6.1, 2.3, 2. ],\n",
       "       [4.4, 2.9, 1.4, 0.2, 0. ],\n",
       "       [5.9, 3. , 5.1, 1.8, 2. ],\n",
       "       [6.7, 3.1, 5.6, 2.4, 2. ],\n",
       "       [5. , 2.3, 3.3, 1. , 1. ],\n",
       "       [6.9, 3.1, 4.9, 1.5, 1. ],\n",
       "       [5.5, 2.5, 4. , 1.3, 1. ],\n",
       "       [5.1, 3.7, 1.5, 0.4, 0. ],\n",
       "       [5.6, 2.9, 3.6, 1.3, 1. ],\n",
       "       [5.7, 2.9, 4.2, 1.3, 1. ],\n",
       "       [6.9, 3.1, 5.1, 2.3, 2. ],\n",
       "       [5.1, 3.8, 1.6, 0.2, 0. ],\n",
       "       [5. , 3.6, 1.4, 0.2, 0. ],\n",
       "       [6.3, 3.3, 4.7, 1.6, 1. ],\n",
       "       [6.4, 2.7, 5.3, 1.9, 2. ],\n",
       "       [6.6, 2.9, 4.6, 1.3, 1. ],\n",
       "       [5.8, 2.8, 5.1, 2.4, 2. ],\n",
       "       [6.8, 2.8, 4.8, 1.4, 1. ],\n",
       "       [7.7, 2.6, 6.9, 2.3, 2. ],\n",
       "       [6.2, 2.9, 4.3, 1.3, 1. ],\n",
       "       [6.4, 3.1, 5.5, 1.8, 2. ],\n",
       "       [4.9, 2.4, 3.3, 1. , 1. ],\n",
       "       [6.5, 2.8, 4.6, 1.5, 1. ],\n",
       "       [5.1, 3.8, 1.9, 0.4, 0. ],\n",
       "       [6.7, 3.3, 5.7, 2.1, 2. ],\n",
       "       [5.5, 3.5, 1.3, 0.2, 0. ],\n",
       "       [5.9, 3.2, 4.8, 1.8, 1. ],\n",
       "       [5.6, 3. , 4.1, 1.3, 1. ],\n",
       "       [6. , 2.2, 5. , 1.5, 2. ],\n",
       "       [5.7, 3. , 4.2, 1.2, 1. ],\n",
       "       [4.8, 3. , 1.4, 0.3, 0. ],\n",
       "       [6.3, 3.4, 5.6, 2.4, 2. ],\n",
       "       [5. , 3.4, 1.6, 0.4, 0. ],\n",
       "       [4.8, 3.4, 1.6, 0.2, 0. ]])"
      ]
     },
     "execution_count": 84,
     "metadata": {},
     "output_type": "execute_result"
    }
   ],
   "source": [
    "np.array([iris[i] for i in indexes])"
   ]
  },
  {
   "cell_type": "code",
   "execution_count": 80,
   "metadata": {},
   "outputs": [
    {
     "data": {
      "text/plain": [
       "array([[5.8, 2.7, 5.1, 1.9, 2. ],\n",
       "       [7.2, 3. , 5.8, 1.6, 2. ],\n",
       "       [5.5, 2.3, 4. , 1.3, 1. ],\n",
       "       [6.1, 2.6, 5.6, 1.4, 2. ],\n",
       "       [6.7, 3.3, 5.7, 2.5, 2. ],\n",
       "       [4.7, 3.2, 1.3, 0.2, 0. ],\n",
       "       [7.7, 3. , 6.1, 2.3, 2. ],\n",
       "       [6.4, 2.7, 5.3, 1.9, 2. ],\n",
       "       [6.5, 2.8, 4.6, 1.5, 1. ],\n",
       "       [5.6, 2.7, 4.2, 1.3, 1. ],\n",
       "       [6.2, 2.2, 4.5, 1.5, 1. ],\n",
       "       [5.7, 3. , 4.2, 1.2, 1. ],\n",
       "       [6.7, 3.1, 4.7, 1.5, 1. ],\n",
       "       [7.1, 3. , 5.9, 2.1, 2. ],\n",
       "       [4.8, 3.4, 1.9, 0.2, 0. ],\n",
       "       [6.3, 3.3, 4.7, 1.6, 1. ],\n",
       "       [5.4, 3.4, 1.7, 0.2, 0. ],\n",
       "       [6.2, 2.8, 4.8, 1.8, 2. ],\n",
       "       [5.8, 2.7, 3.9, 1.2, 1. ],\n",
       "       [6.7, 3.1, 4.4, 1.4, 1. ],\n",
       "       [5.1, 3.8, 1.5, 0.3, 0. ],\n",
       "       [4.4, 3.2, 1.3, 0.2, 0. ],\n",
       "       [4.9, 3. , 1.4, 0.2, 0. ],\n",
       "       [6.3, 2.9, 5.6, 1.8, 2. ],\n",
       "       [5.7, 2.8, 4.1, 1.3, 1. ],\n",
       "       [7.3, 2.9, 6.3, 1.8, 2. ],\n",
       "       [5.1, 3.8, 1.9, 0.4, 0. ],\n",
       "       [4.3, 3. , 1.1, 0.1, 0. ],\n",
       "       [6.3, 2.5, 4.9, 1.5, 1. ],\n",
       "       [5.2, 2.7, 3.9, 1.4, 1. ],\n",
       "       [5.4, 3.7, 1.5, 0.2, 0. ],\n",
       "       [5.5, 2.4, 3.7, 1. , 1. ],\n",
       "       [5. , 2.3, 3.3, 1. , 1. ],\n",
       "       [5. , 3.5, 1.3, 0.3, 0. ],\n",
       "       [5.6, 2.9, 3.6, 1.3, 1. ],\n",
       "       [5.7, 2.9, 4.2, 1.3, 1. ],\n",
       "       [5. , 3. , 1.6, 0.2, 0. ],\n",
       "       [6. , 2.9, 4.5, 1.5, 1. ],\n",
       "       [6.6, 2.9, 4.6, 1.3, 1. ],\n",
       "       [4.6, 3.4, 1.4, 0.3, 0. ],\n",
       "       [5.1, 3.5, 1.4, 0.2, 0. ],\n",
       "       [5.4, 3.4, 1.5, 0.4, 0. ],\n",
       "       [6.9, 3.1, 5.4, 2.1, 2. ],\n",
       "       [5.1, 3.5, 1.4, 0.3, 0. ],\n",
       "       [6. , 3. , 4.8, 1.8, 2. ],\n",
       "       [6.7, 3.3, 5.7, 2.1, 2. ],\n",
       "       [4.9, 3.1, 1.5, 0.1, 0. ],\n",
       "       [6.8, 3.2, 5.9, 2.3, 2. ],\n",
       "       [5. , 3.3, 1.4, 0.2, 0. ],\n",
       "       [5.8, 2.7, 5.1, 1.9, 2. ],\n",
       "       [4.9, 2.4, 3.3, 1. , 1. ],\n",
       "       [5.7, 2.5, 5. , 2. , 2. ],\n",
       "       [5. , 3.6, 1.4, 0.2, 0. ],\n",
       "       [4.9, 3.1, 1.5, 0.1, 0. ],\n",
       "       [5.4, 3.9, 1.7, 0.4, 0. ],\n",
       "       [5.8, 2.7, 4.1, 1. , 1. ],\n",
       "       [6.3, 3.4, 5.6, 2.4, 2. ],\n",
       "       [5.2, 3.4, 1.4, 0.2, 0. ],\n",
       "       [6.4, 3.2, 5.3, 2.3, 2. ],\n",
       "       [4.8, 3. , 1.4, 0.3, 0. ],\n",
       "       [6.1, 3. , 4.6, 1.4, 1. ],\n",
       "       [5.2, 3.5, 1.5, 0.2, 0. ],\n",
       "       [5. , 3.2, 1.2, 0.2, 0. ],\n",
       "       [5.7, 2.6, 3.5, 1. , 1. ],\n",
       "       [6.4, 2.8, 5.6, 2.1, 2. ],\n",
       "       [6.9, 3.1, 4.9, 1.5, 1. ],\n",
       "       [6.5, 3. , 5.2, 2. , 2. ],\n",
       "       [6. , 3.4, 4.5, 1.6, 1. ],\n",
       "       [5.6, 3. , 4.1, 1.3, 1. ],\n",
       "       [4.6, 3.1, 1.5, 0.2, 0. ],\n",
       "       [6.3, 2.8, 5.1, 1.5, 2. ],\n",
       "       [6.4, 2.8, 5.6, 2.2, 2. ],\n",
       "       [5.5, 3.5, 1.3, 0.2, 0. ],\n",
       "       [4.4, 2.9, 1.4, 0.2, 0. ],\n",
       "       [6.7, 3. , 5. , 1.7, 1. ],\n",
       "       [5.4, 3. , 4.5, 1.5, 1. ],\n",
       "       [6.5, 3.2, 5.1, 2. , 2. ],\n",
       "       [4.6, 3.6, 1. , 0.2, 0. ],\n",
       "       [6.9, 3.1, 5.1, 2.3, 2. ],\n",
       "       [5. , 2. , 3.5, 1. , 1. ],\n",
       "       [5.6, 3. , 4.5, 1.5, 1. ],\n",
       "       [5.9, 3. , 5.1, 1.8, 2. ],\n",
       "       [5.7, 2.8, 4.5, 1.3, 1. ],\n",
       "       [4.5, 2.3, 1.3, 0.3, 0. ],\n",
       "       [7.7, 2.8, 6.7, 2. , 2. ],\n",
       "       [5.7, 3.8, 1.7, 0.3, 0. ],\n",
       "       [6.5, 3. , 5.5, 1.8, 2. ],\n",
       "       [4.9, 3.1, 1.5, 0.1, 0. ],\n",
       "       [7. , 3.2, 4.7, 1.4, 1. ],\n",
       "       [6.2, 2.9, 4.3, 1.3, 1. ],\n",
       "       [6.3, 2.7, 4.9, 1.8, 2. ],\n",
       "       [6.1, 2.8, 4. , 1.3, 1. ],\n",
       "       [5.9, 3. , 4.2, 1.5, 1. ],\n",
       "       [6.8, 2.8, 4.8, 1.4, 1. ],\n",
       "       [5.5, 2.5, 4. , 1.3, 1. ],\n",
       "       [6.3, 2.5, 5. , 1.9, 2. ],\n",
       "       [7.9, 3.8, 6.4, 2. , 2. ],\n",
       "       [5.4, 3.9, 1.3, 0.4, 0. ],\n",
       "       [4.8, 3.1, 1.6, 0.2, 0. ],\n",
       "       [6.3, 2.3, 4.4, 1.3, 1. ],\n",
       "       [5.8, 2.8, 5.1, 2.4, 2. ],\n",
       "       [6. , 2.2, 4. , 1. , 1. ],\n",
       "       [5.1, 3.8, 1.6, 0.2, 0. ],\n",
       "       [4.4, 3. , 1.3, 0.2, 0. ],\n",
       "       [6.4, 3.2, 4.5, 1.5, 1. ],\n",
       "       [6.1, 2.8, 4.7, 1.2, 1. ],\n",
       "       [5.2, 4.1, 1.5, 0.1, 0. ],\n",
       "       [5. , 3.4, 1.6, 0.4, 0. ],\n",
       "       [7.6, 3. , 6.6, 2.1, 2. ],\n",
       "       [6.7, 2.5, 5.8, 1.8, 2. ],\n",
       "       [7.7, 3.8, 6.7, 2.2, 2. ],\n",
       "       [6.3, 3.3, 6. , 2.5, 2. ],\n",
       "       [5.1, 3.7, 1.5, 0.4, 0. ],\n",
       "       [5.6, 2.8, 4.9, 2. , 2. ],\n",
       "       [5.1, 3.4, 1.5, 0.2, 0. ],\n",
       "       [6.1, 2.9, 4.7, 1.4, 1. ],\n",
       "       [6.4, 3.1, 5.5, 1.8, 2. ],\n",
       "       [6.6, 3. , 4.4, 1.4, 1. ],\n",
       "       [6.7, 3. , 5.2, 2.3, 2. ],\n",
       "       [7.2, 3.6, 6.1, 2.5, 2. ],\n",
       "       [4.8, 3.4, 1.6, 0.2, 0. ],\n",
       "       [4.8, 3. , 1.4, 0.1, 0. ],\n",
       "       [5.5, 4.2, 1.4, 0.2, 0. ],\n",
       "       [4.6, 3.2, 1.4, 0.2, 0. ],\n",
       "       [5.9, 3.2, 4.8, 1.8, 1. ],\n",
       "       [6.2, 3.4, 5.4, 2.3, 2. ],\n",
       "       [6.9, 3.2, 5.7, 2.3, 2. ],\n",
       "       [6.7, 3.1, 5.6, 2.4, 2. ],\n",
       "       [6. , 2.2, 5. , 1.5, 2. ],\n",
       "       [6. , 2.7, 5.1, 1.6, 1. ],\n",
       "       [5.1, 3.3, 1.7, 0.5, 0. ],\n",
       "       [5.7, 4.4, 1.5, 0.4, 0. ],\n",
       "       [5.5, 2.4, 3.8, 1.1, 1. ],\n",
       "       [6.1, 3. , 4.9, 1.8, 2. ],\n",
       "       [4.7, 3.2, 1.6, 0.2, 0. ],\n",
       "       [6.4, 2.9, 4.3, 1.3, 1. ],\n",
       "       [6.8, 3. , 5.5, 2.1, 2. ],\n",
       "       [5.1, 2.5, 3. , 1.1, 1. ],\n",
       "       [5.8, 2.6, 4. , 1.2, 1. ],\n",
       "       [5.3, 3.7, 1.5, 0.2, 0. ],\n",
       "       [5.6, 2.5, 3.9, 1.1, 1. ],\n",
       "       [5. , 3.4, 1.5, 0.2, 0. ],\n",
       "       [7.2, 3.2, 6. , 1.8, 2. ],\n",
       "       [5.5, 2.6, 4.4, 1.2, 1. ],\n",
       "       [7.7, 2.6, 6.9, 2.3, 2. ],\n",
       "       [7.4, 2.8, 6.1, 1.9, 2. ],\n",
       "       [6.5, 3. , 5.8, 2.2, 2. ],\n",
       "       [5.8, 4. , 1.2, 0.2, 0. ],\n",
       "       [4.9, 2.5, 4.5, 1.7, 2. ],\n",
       "       [5. , 3.5, 1.6, 0.6, 0. ]])"
      ]
     },
     "execution_count": 80,
     "metadata": {},
     "output_type": "execute_result"
    }
   ],
   "source": [
    "np.random.permutation(iris)"
   ]
  },
  {
   "cell_type": "markdown",
   "metadata": {},
   "source": [
    "### choice()\n",
    "- 주어진 데이터에서 임의로 뽑는다\n",
    "- (**주의**) 반복 선택이 가능하다"
   ]
  },
  {
   "cell_type": "code",
   "execution_count": 85,
   "metadata": {
    "scrolled": true
   },
   "outputs": [
    {
     "name": "stdout",
     "output_type": "stream",
     "text": [
      "Help on built-in function choice:\n",
      "\n",
      "choice(...) method of mtrand.RandomState instance\n",
      "    choice(a, size=None, replace=True, p=None)\n",
      "    \n",
      "    Generates a random sample from a given 1-D array\n",
      "    \n",
      "            .. versionadded:: 1.7.0\n",
      "    \n",
      "    Parameters\n",
      "    -----------\n",
      "    a : 1-D array-like or int\n",
      "        If an ndarray, a random sample is generated from its elements.\n",
      "        If an int, the random sample is generated as if a were np.arange(a)\n",
      "    size : int or tuple of ints, optional\n",
      "        Output shape.  If the given shape is, e.g., ``(m, n, k)``, then\n",
      "        ``m * n * k`` samples are drawn.  Default is None, in which case a\n",
      "        single value is returned.\n",
      "    replace : boolean, optional\n",
      "        Whether the sample is with or without replacement\n",
      "    p : 1-D array-like, optional\n",
      "        The probabilities associated with each entry in a.\n",
      "        If not given the sample assumes a uniform distribution over all\n",
      "        entries in a.\n",
      "    \n",
      "    Returns\n",
      "    --------\n",
      "    samples : single item or ndarray\n",
      "        The generated random samples\n",
      "    \n",
      "    Raises\n",
      "    -------\n",
      "    ValueError\n",
      "        If a is an int and less than zero, if a or p are not 1-dimensional,\n",
      "        if a is an array-like of size 0, if p is not a vector of\n",
      "        probabilities, if a and p have different lengths, or if\n",
      "        replace=False and the sample size is greater than the population\n",
      "        size\n",
      "    \n",
      "    See Also\n",
      "    ---------\n",
      "    randint, shuffle, permutation\n",
      "    \n",
      "    Examples\n",
      "    ---------\n",
      "    Generate a uniform random sample from np.arange(5) of size 3:\n",
      "    \n",
      "    >>> np.random.choice(5, 3)\n",
      "    array([0, 3, 4])\n",
      "    >>> #This is equivalent to np.random.randint(0,5,3)\n",
      "    \n",
      "    Generate a non-uniform random sample from np.arange(5) of size 3:\n",
      "    \n",
      "    >>> np.random.choice(5, 3, p=[0.1, 0, 0.3, 0.6, 0])\n",
      "    array([3, 3, 0])\n",
      "    \n",
      "    Generate a uniform random sample from np.arange(5) of size 3 without\n",
      "    replacement:\n",
      "    \n",
      "    >>> np.random.choice(5, 3, replace=False)\n",
      "    array([3,1,0])\n",
      "    >>> #This is equivalent to np.random.permutation(np.arange(5))[:3]\n",
      "    \n",
      "    Generate a non-uniform random sample from np.arange(5) of size\n",
      "    3 without replacement:\n",
      "    \n",
      "    >>> np.random.choice(5, 3, replace=False, p=[0.1, 0, 0.3, 0.6, 0])\n",
      "    array([2, 3, 0])\n",
      "    \n",
      "    Any of the above can be repeated with an arbitrary array-like\n",
      "    instead of just integers. For instance:\n",
      "    \n",
      "    >>> aa_milne_arr = ['pooh', 'rabbit', 'piglet', 'Christopher']\n",
      "    >>> np.random.choice(aa_milne_arr, 5, p=[0.5, 0.1, 0.1, 0.3])\n",
      "    array(['pooh', 'pooh', 'pooh', 'Christopher', 'piglet'],\n",
      "          dtype='|S11')\n",
      "\n"
     ]
    }
   ],
   "source": [
    "help(np.random.choice)"
   ]
  },
  {
   "cell_type": "code",
   "execution_count": 39,
   "metadata": {},
   "outputs": [
    {
     "data": {
      "text/plain": [
       "array([0, 1, 2, 3, 4, 5, 6, 7, 8, 9])"
      ]
     },
     "execution_count": 39,
     "metadata": {},
     "output_type": "execute_result"
    }
   ],
   "source": [
    "a = np.arange(10)\n",
    "a"
   ]
  },
  {
   "cell_type": "code",
   "execution_count": 40,
   "metadata": {},
   "outputs": [
    {
     "data": {
      "text/plain": [
       "array([0, 8, 4, 2, 1, 5, 7, 3, 2, 4, 2, 4, 5, 4, 7, 2, 4, 8, 5, 0, 6, 4,\n",
       "       3, 1, 0, 2, 9, 3, 4, 6, 8, 4, 0, 9, 8, 6, 0, 1, 7, 6, 7, 0, 8, 2,\n",
       "       9, 4, 5, 7, 5, 3, 7, 6, 9, 2, 9, 0, 9, 9, 1, 5, 4, 5, 4, 1, 4, 4,\n",
       "       0, 8, 9, 9, 7, 4, 3, 3, 6, 1, 3, 0, 9, 9, 9, 3, 4, 4, 1, 4, 3, 6,\n",
       "       0, 4, 4, 9, 8, 0, 3, 8, 9, 4, 2, 1])"
      ]
     },
     "execution_count": 40,
     "metadata": {},
     "output_type": "execute_result"
    }
   ],
   "source": [
    "np.random.choice(a,100)"
   ]
  },
  {
   "cell_type": "code",
   "execution_count": 41,
   "metadata": {},
   "outputs": [
    {
     "data": {
      "text/plain": [
       "array([1, 1, 1, 0, 0, 1, 0, 1, 0, 0])"
      ]
     },
     "execution_count": 41,
     "metadata": {},
     "output_type": "execute_result"
    }
   ],
   "source": [
    "np.random.choice([0,1], 10)"
   ]
  },
  {
   "cell_type": "code",
   "execution_count": 42,
   "metadata": {},
   "outputs": [
    {
     "data": {
      "text/plain": [
       "array([1, 0, 1, 1, 1, 1, 0, 0, 0, 0])"
      ]
     },
     "execution_count": 42,
     "metadata": {},
     "output_type": "execute_result"
    }
   ],
   "source": [
    "np.random.randint(2, size=10)"
   ]
  },
  {
   "cell_type": "code",
   "execution_count": 87,
   "metadata": {},
   "outputs": [
    {
     "data": {
      "text/plain": [
       "array([0, 1, 0, 0, 0, 0, 1, 0, 1, 0, 0, 0, 0, 1, 0, 0, 1, 0, 0, 0, 0, 0,\n",
       "       1, 0, 0, 1, 1, 1, 1, 0, 1, 0, 1, 0, 0, 1, 1, 0, 1, 0, 1, 0, 0, 0,\n",
       "       1, 0, 0, 1, 1, 1, 0, 0, 0, 0, 0, 0, 0, 1, 1, 1, 1, 0, 0, 1, 0, 1,\n",
       "       0, 1, 1, 1, 0, 1, 0, 1, 0, 0, 1, 1, 0, 1, 1, 0, 1, 1, 0, 1, 1, 1,\n",
       "       0, 0, 0, 0, 0, 1, 1, 0, 0, 0, 0, 0])"
      ]
     },
     "execution_count": 87,
     "metadata": {},
     "output_type": "execute_result"
    }
   ],
   "source": [
    "np.random.choice([0,1], size=100, p=[0.51, 0.49])"
   ]
  },
  {
   "cell_type": "markdown",
   "metadata": {},
   "source": [
    "### seed()\n",
    "- 동일한 실험 결과를 위해 랜덤 발생을 고정시킨다"
   ]
  },
  {
   "cell_type": "code",
   "execution_count": 88,
   "metadata": {},
   "outputs": [
    {
     "name": "stdout",
     "output_type": "stream",
     "text": [
      "Help on built-in function seed:\n",
      "\n",
      "seed(...) method of mtrand.RandomState instance\n",
      "    seed(seed=None)\n",
      "    \n",
      "    Seed the generator.\n",
      "    \n",
      "    This method is called when `RandomState` is initialized. It can be\n",
      "    called again to re-seed the generator. For details, see `RandomState`.\n",
      "    \n",
      "    Parameters\n",
      "    ----------\n",
      "    seed : int or 1-d array_like, optional\n",
      "        Seed for `RandomState`.\n",
      "        Must be convertible to 32 bit unsigned integers.\n",
      "    \n",
      "    See Also\n",
      "    --------\n",
      "    RandomState\n",
      "\n"
     ]
    }
   ],
   "source": [
    "help(np.random.seed)"
   ]
  },
  {
   "cell_type": "code",
   "execution_count": 54,
   "metadata": {},
   "outputs": [
    {
     "data": {
      "text/plain": [
       "array([0, 0, 1, 1, 0, 0, 0, 0, 1, 1])"
      ]
     },
     "metadata": {},
     "output_type": "display_data"
    },
    {
     "data": {
      "text/plain": [
       "array([0, 0, 0, 0, 1, 0, 1, 1, 0, 0])"
      ]
     },
     "metadata": {},
     "output_type": "display_data"
    }
   ],
   "source": [
    "np.random.seed(2019)\n",
    "a = np.random.randint(2, size=10)\n",
    "b = np.random.randint(2, size=10)\n",
    "display(a,b)"
   ]
  },
  {
   "cell_type": "code",
   "execution_count": 44,
   "metadata": {},
   "outputs": [
    {
     "data": {
      "text/plain": [
       "array([0, 0, 1, 1, 0, 0, 0, 0, 1, 1])"
      ]
     },
     "metadata": {},
     "output_type": "display_data"
    },
    {
     "data": {
      "text/plain": [
       "array([0, 0, 0, 0, 1, 0, 1, 1, 0, 0])"
      ]
     },
     "metadata": {},
     "output_type": "display_data"
    }
   ],
   "source": [
    "np.random.seed(2019)\n",
    "a = np.random.randint(2, size=10)\n",
    "b = np.random.randint(2, size=10)\n",
    "display(a,b)"
   ]
  }
 ],
 "metadata": {
  "kernelspec": {
   "display_name": "Python 3",
   "language": "python",
   "name": "python3"
  },
  "language_info": {
   "codemirror_mode": {
    "name": "ipython",
    "version": 3
   },
   "file_extension": ".py",
   "mimetype": "text/x-python",
   "name": "python",
   "nbconvert_exporter": "python",
   "pygments_lexer": "ipython3",
   "version": "3.6.4"
  }
 },
 "nbformat": 4,
 "nbformat_minor": 2
}
